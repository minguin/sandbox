{
 "cells": [
  {
   "cell_type": "markdown",
   "metadata": {},
   "source": [
    "### newspaper＆Langchain"
   ]
  },
  {
   "cell_type": "markdown",
   "metadata": {},
   "source": [
    "- https://docs.langchain.com/docs/\n",
    "- https://python.langchain.com/docs/integrations/callbacks/streamlit\n",
    "- https://python.langchain.com/docs/use_cases/web_scraping/\n",
    "- https://python.langchain.com/docs/integrations/document_loaders/wikipedia\n",
    "- https://python.langchain.com/docs/integrations/document_loaders/news\n",
    "- https://python.langchain.com/docs/integrations/document_loaders/copypaste\n",
    "- https://python.langchain.com/docs/integrations/retrievers/wikipedia"
   ]
  },
  {
   "cell_type": "code",
   "execution_count": 1,
   "metadata": {},
   "outputs": [
    {
     "data": {
      "text/plain": [
       "True"
      ]
     },
     "execution_count": 1,
     "metadata": {},
     "output_type": "execute_result"
    }
   ],
   "source": [
    "import os\n",
    "from dotenv import load_dotenv\n",
    "load_dotenv()"
   ]
  },
  {
   "cell_type": "markdown",
   "metadata": {},
   "source": [
    "#### newspaper\n",
    "https://github.com/codelucas/newspaper/"
   ]
  },
  {
   "cell_type": "code",
   "execution_count": 2,
   "metadata": {},
   "outputs": [
    {
     "name": "stdout",
     "output_type": "stream",
     "text": [
      "https://prtimes.jp/main/html/rd/p/000000175.000019201.html\n",
      "https://prtimes.jp/main/html/rd/p/000003355.000019470.html\n",
      "https://prtimes.jp/main/html/rd/p/000000874.000019483.html\n",
      "https://prtimes.jp/main/html/rd/p/000000186.000019787.html\n",
      "https://prtimes.jp/story/detail/rX5ngQCJvPb\n"
     ]
    }
   ],
   "source": [
    "import newspaper\n",
    "NEWS_URL = 'http://cnn.com'\n",
    "NEWS_URL = 'https://prtimes.jp/'\n",
    "news_build = newspaper.build(NEWS_URL, memoize_articles=False)\n",
    "\n",
    "for article in news_build.articles[:5]:\n",
    "    print(article.url)"
   ]
  },
  {
   "cell_type": "code",
   "execution_count": 3,
   "metadata": {},
   "outputs": [
    {
     "name": "stdout",
     "output_type": "stream",
     "text": [
      "https://prtimes.jp/\n",
      "https://prtimes.jp/technology\n",
      "https://prtimes.jp/app\n",
      "https://prtimes.jp/service\n",
      "https://prtimes.jp/topics\n"
     ]
    }
   ],
   "source": [
    "for category in news_build.category_urls()[:5]:\n",
    "    print(category)"
   ]
  },
  {
   "cell_type": "code",
   "execution_count": 4,
   "metadata": {},
   "outputs": [
    {
     "name": "stdout",
     "output_type": "stream",
     "text": [
      "prtimes\n",
      "プレスリリースをPR TIMESで配信して、効果的なPRを実現。上場企業の54.5%（2,169/3,978社）が利用する現在シェアNo.1のプレスリリース配信代行サービス。話題のベンチャー～グローバル企業のニュースリリースが集まる生活者も要注目のサイトです。プレスリリースの受信は無料です。\n"
     ]
    }
   ],
   "source": [
    "print(news_build.brand)\n",
    "print(news_build.description)"
   ]
  },
  {
   "cell_type": "code",
   "execution_count": 5,
   "metadata": {},
   "outputs": [],
   "source": [
    "article = news_build.articles[0]\n",
    "article.download()\n",
    "article.parse()\n",
    "article.nlp()"
   ]
  },
  {
   "cell_type": "code",
   "execution_count": 6,
   "metadata": {},
   "outputs": [
    {
     "name": "stdout",
     "output_type": "stream",
     "text": [
      "- html:\n",
      " <!doctype html>\n",
      "<html class=\"no-js\">\n",
      "<head>\n",
      "    <script type=\"text/javascript\" src=\"/common/js/GTMhe\n",
      "- authors:\n",
      " []\n",
      "- publish_date:\n",
      " None\n",
      "- text:\n",
      " \n",
      "- keywords:\n",
      " ['プロフェッショナルのための道具であることをイメージさせるスモーキーカラーを採用した新型ルノー', 'カングー', 'カングーの限定車ルノー', 'ヴァリエテ発売']\n",
      "- summary:\n",
      " \n"
     ]
    }
   ],
   "source": [
    "print('- html:\\n',article.html[:100])\n",
    "print('- authors:\\n',article.authors)\n",
    "print('- publish_date:\\n',article.publish_date)\n",
    "print('- text:\\n',article.text)\n",
    "print('- keywords:\\n',article.keywords)\n",
    "print('- summary:\\n',article.summary)"
   ]
  },
  {
   "cell_type": "markdown",
   "metadata": {},
   "source": [
    "#### langchain"
   ]
  },
  {
   "cell_type": "code",
   "execution_count": 9,
   "metadata": {},
   "outputs": [
    {
     "name": "stdout",
     "output_type": "stream",
     "text": [
      "\n",
      "\n",
      "\u001b[1m> Entering new AgentExecutor chain...\u001b[0m\n",
      "\u001b[32;1m\u001b[1;3m\n",
      "Invoking: `Search` with `companies with black pellets`\n",
      "\n",
      "\n",
      "\u001b[0m\u001b[33;1m\u001b[1;3mBiofuelwatch investigation into attempts fo produce black pellets (thorugh torrefaction, steam explosion, or hydrothermal carbonisation) on a ...\u001b[0m\u001b[32;1m\u001b[1;3m\n",
      "Invoking: `Search` with `Biofuelwatch`\n",
      "responded: {content}\n",
      "\n",
      "\u001b[0m\u001b[33;1m\u001b[1;3mPlease click here. Search. Search for: Donate. Can you support Biofuelwatch's work? You can make a donation here. Mastodon. We are now on Mastodon. © ...\u001b[0m\u001b[32;1m\u001b[1;3m\n",
      "Invoking: `Search` with `Enviva`\n",
      "\n",
      "\n",
      "\u001b[0m\u001b[33;1m\u001b[1;3mEnviva Inc. is the world's largest producer of wood pellets, a renewable alternative to coal. The company has also been the subject of controversy regarding its sustainability with an environmental ...\u001b[0m\u001b[32;1m\u001b[1;3m\n",
      "Invoking: `Search` with `Blackwood Technology`\n",
      "\n",
      "\n",
      "\u001b[0m\u001b[33;1m\u001b[1;3mBlackwood is world leader in biomass torrefaction technology ... Blackwood is a renewable energy technology company focusing on biomass torrefaction. Our FlashTor ...\u001b[0m\u001b[32;1m\u001b[1;3m\n",
      "Invoking: `Search` with `FutureMetrics`\n",
      "\n",
      "\n",
      "\u001b[0m\u001b[33;1m\u001b[1;3mFutureMetrics is the leading consultancy in the wood pellet sector. FutureMetrics provides information, market analysis, operations guidance, and strategic ...\u001b[0m\u001b[32;1m\u001b[1;3m\n",
      "Invoking: `Search` with `Valmet`\n",
      "\n",
      "\n",
      "\u001b[0m\u001b[33;1m\u001b[1;3mValmet Oyj, a Finnish company, is a developer and supplier of technologies, automation systems and services for the pulp, paper and energy industries. Valmet has over 200 years of history as an industrial operator.\u001b[0m\u001b[32;1m\u001b[1;3mHere is the list of companies with black pellets along with some additional information:\n",
      "\n",
      "1. **Biofuelwatch**: Biofuelwatch is an organization that has conducted investigations into attempts to produce black pellets through torrefaction, steam explosion, or hydrothermal carbonization. [More information](https://www.biofuelwatch.org.uk/)\n",
      "\n",
      "2. **Enviva**: Enviva is the world's largest producer of wood pellets, including black pellets, which are a renewable alternative to coal. The company has been the subject of sustainability controversies. [More information](https://www.envivabiomass.com/)\n",
      "\n",
      "3. **Blackwood Technology**: Blackwood Technology is a renewable energy technology company specializing in biomass torrefaction. They are a world leader in biomass torrefaction technology. [More information](https://www.blackwoodtechnology.com/)\n",
      "\n",
      "4. **FutureMetrics**: FutureMetrics is a leading consultancy in the wood pellet sector. They provide information, market analysis, operations guidance, and strategic insights to companies in the industry. [More information](https://www.futuremetrics.info/)\n",
      "\n",
      "5. **Valmet**: Valmet is a Finnish company that develops and supplies technologies, automation systems, and services for the pulp, paper, and energy industries. They have expertise in the production of black pellets. [More information](https://www.valmet.com/)\n",
      "\n",
      "Please note that the provided information is a brief overview of each company. You can visit the respective websites for more detailed information.\u001b[0m\n",
      "\n",
      "\u001b[1m> Finished chain.\u001b[0m\n"
     ]
    }
   ],
   "source": [
    "import openai\n",
    "\n",
    "from langchain.agents import load_tools\n",
    "from langchain.chat_models import ChatOpenAI\n",
    "from langchain.tools import DuckDuckGoSearchRun\n",
    "from langchain.agents import AgentExecutor\n",
    "from langchain.schema import SystemMessage\n",
    "from langchain.agents import OpenAIFunctionsAgent\n",
    "from langchain.document_loaders import NewsURLLoader\n",
    "\n",
    "openai.api_key = os.getenv('OPENAI_API_KEY')\n",
    "os.environ[\"SERPAPI_API_KEY\"] = os.getenv('SERPAPI_API_KEY')\n",
    "\n",
    "# Tool\n",
    "llm = ChatOpenAI(\n",
    "    model='gpt-3.5-turbo-16k',\n",
    "    temperature=0,\n",
    "    openai_api_key=openai.api_key,\n",
    "    )\n",
    "tools = load_tools([\n",
    "    \"ddg-search\",\n",
    "    'serpapi',\n",
    "    # \"wikipedia\"\n",
    "    ], llm=llm)\n",
    "\n",
    "# Prompt\n",
    "system_message = SystemMessage(content=\"You are a search assistant.\")\n",
    "prompt = OpenAIFunctionsAgent.create_prompt(system_message=system_message)\n",
    "\n",
    "# Agent\n",
    "search_agent = OpenAIFunctionsAgent(\n",
    "    llm=llm, \n",
    "    tools=tools, \n",
    "    prompt=prompt,\n",
    "    max_tokens_limit=4096\n",
    "    )\n",
    "agent_executor = AgentExecutor(\n",
    "    agent=search_agent, \n",
    "    tools=tools, \n",
    "    verbose=True\n",
    "    )\n",
    "\n",
    "\n",
    "# from langchain.agents import initialize_agent\n",
    "# agent_executor = initialize_agent(\n",
    "#     tools, \n",
    "#     llm, \n",
    "#     agent=\"zero-shot-react-description\", \n",
    "#     verbose=True,\n",
    "#     agent_kwargs=dict(suffix='Answer should be in Japanese.' + prompt.SUFFIX)\n",
    "#     )\n",
    "\n",
    "# Run\n",
    "query = r\"Do a web search for about 5 companies with black pellets, then do another web search on the company name to get more information, and create a list in markdown format that includes the company details. Let's think step by step.\"\n",
    "results = agent_executor.run(query)"
   ]
  },
  {
   "cell_type": "code",
   "execution_count": 14,
   "metadata": {},
   "outputs": [
    {
     "name": "stdout",
     "output_type": "stream",
     "text": [
      "Here is the list of companies with black pellets along with some additional information:\n",
      "\n",
      "1. **Biofuelwatch**: Biofuelwatch is an organization that has conducted investigations into attempts to produce black pellets through torrefaction, steam explosion, or hydrothermal carbonization. [More information](https://www.biofuelwatch.org.uk/)\n",
      "\n",
      "2. **Enviva**: Enviva is the world's largest producer of wood pellets, including black pellets, which are a renewable alternative to coal. The company has been the subject of sustainability controversies. [More information](https://www.envivabiomass.com/)\n",
      "\n",
      "3. **Blackwood Technology**: Blackwood Technology is a renewable energy technology company specializing in biomass torrefaction. They are a world leader in biomass torrefaction technology. [More information](https://www.blackwoodtechnology.com/)\n",
      "\n",
      "4. **FutureMetrics**: FutureMetrics is a leading consultancy in the wood pellet sector. They provide information, market analysis, operations guidance, and strategic insights to companies in the industry. [More information](https://www.futuremetrics.info/)\n",
      "\n",
      "5. **Valmet**: Valmet is a Finnish company that develops and supplies technologies, automation systems, and services for the pulp, paper, and energy industries. They have expertise in the production of black pellets. [More information](https://www.valmet.com/)\n",
      "\n",
      "Please note that the provided information is a brief overview of each company. You can visit the respective websites for more detailed information.\n"
     ]
    }
   ],
   "source": [
    "print(results)"
   ]
  },
  {
   "cell_type": "code",
   "execution_count": 11,
   "metadata": {},
   "outputs": [
    {
     "name": "stdout",
     "output_type": "stream",
     "text": [
      "- First article:\n",
      " page_content='In testimony to the congressional committee examining the 6 January riot, Mrs Powell said she did not review all of the many claims of election fraud she made, telling them that \"no reasonable person\" would view her claims as fact. Neither she nor her representatives have commented.' metadata={'title': \"Who are the six co-conspirators in Trump's latest indictment?\", 'link': 'https://www.bbc.com/news/world-us-canada-66388172', 'authors': [], 'language': 'en', 'description': 'Six people accused of helping Mr Trump undermine the election have been described by prosecutors.', 'publish_date': None, 'keywords': ['coconspirators', 'telling', 'powell', 'riot', 'reasonable', 'representatives', 'view', 'review', 'trumps', 'indictment', 'latest', 'testimony', 'claims', 'person'], 'summary': 'In testimony to the congressional committee examining the 6 January riot, Mrs Powell said she did not review all of the many claims of election fraud she made, telling them that \"no reasonable person\" would view her claims as fact.\\nNeither she nor her representatives have commented.'}\n",
      "- keywords:\n",
      " ['coconspirators', 'telling', 'powell', 'riot', 'reasonable', 'representatives', 'view', 'review', 'trumps', 'indictment', 'latest', 'testimony', 'claims', 'person']\n",
      "- summary:\n",
      " In testimony to the congressional committee examining the 6 January riot, Mrs Powell said she did not review all of the many claims of election fraud she made, telling them that \"no reasonable person\" would view her claims as fact.\n",
      "Neither she nor her representatives have commented.\n"
     ]
    }
   ],
   "source": [
    "# NewsURLLoader\n",
    "urls = [\n",
    "    \"https://www.bbc.com/news/world-us-canada-66388172\",\n",
    "    \"https://www.bbc.com/news/entertainment-arts-66384971\",\n",
    "]\n",
    "\n",
    "loader = NewsURLLoader(urls=urls, nlp=True)\n",
    "data = loader.load()\n",
    "print(\"- First article:\\n\", data[0])\n",
    "print('- keywords:\\n',data[0].metadata['keywords'])\n",
    "print('- summary:\\n',data[0].metadata['summary'])"
   ]
  },
  {
   "cell_type": "code",
   "execution_count": null,
   "metadata": {},
   "outputs": [],
   "source": []
  }
 ],
 "metadata": {
  "kernelspec": {
   "display_name": "Python 3 (ipykernel)",
   "language": "python",
   "name": "python3"
  },
  "language_info": {
   "codemirror_mode": {
    "name": "ipython",
    "version": 3
   },
   "file_extension": ".py",
   "mimetype": "text/x-python",
   "name": "python",
   "nbconvert_exporter": "python",
   "pygments_lexer": "ipython3",
   "version": "3.10.9"
  }
 },
 "nbformat": 4,
 "nbformat_minor": 2
}
