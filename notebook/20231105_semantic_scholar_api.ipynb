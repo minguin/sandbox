{
 "cells": [
  {
   "cell_type": "markdown",
   "metadata": {},
   "source": [
    "### 2つの結果の結合（ArXivによる検索と、Semantic Scholarそのものの検索）"
   ]
  },
  {
   "cell_type": "code",
   "execution_count": 50,
   "metadata": {},
   "outputs": [],
   "source": [
    "import json\n",
    "import requests"
   ]
  },
  {
   "cell_type": "markdown",
   "metadata": {},
   "source": [
    "#### ArXiv"
   ]
  },
  {
   "cell_type": "code",
   "execution_count": 51,
   "metadata": {},
   "outputs": [
    {
     "data": {
      "text/plain": [
       "[{'paperId': '649def34f8be52c8b66281af98ae884c09aef38b',\n",
       "  'title': 'Construction of the Literature Graph in Semantic Scholar',\n",
       "  'referenceCount': 26,\n",
       "  'citationCount': 337},\n",
       " {'paperId': 'f712fab0d58ae6492e3cdfc1933dae103ec12d5d',\n",
       "  'title': 'Reinfection and low cross-immunity as drivers of epidemic resurgence under high seroprevalence: a model-based approach with application to Amazonas, Brazil',\n",
       "  'referenceCount': 13,\n",
       "  'citationCount': 0}]"
      ]
     },
     "execution_count": 51,
     "metadata": {},
     "output_type": "execute_result"
    }
   ],
   "source": [
    "r = requests.post(\n",
    "    'https://api.semanticscholar.org/graph/v1/paper/batch',\n",
    "    params={'fields': 'referenceCount,citationCount,title'},\n",
    "    json={\"ids\": [\"649def34f8be52c8b66281af98ae884c09aef38b\", \"ARXIV:2106.15928\"]}\n",
    ")\n",
    "d1 = r.json()\n",
    "d1"
   ]
  },
  {
   "cell_type": "markdown",
   "metadata": {},
   "source": [
    "#### Semantic Scholar"
   ]
  },
  {
   "cell_type": "code",
   "execution_count": 52,
   "metadata": {},
   "outputs": [
    {
     "data": {
      "text/plain": [
       "[{'paperId': '649def34f8be52c8b66281af98ae884c09aef38b',\n",
       "  'title': 'Construction of the Literature Graph in Semantic Scholar',\n",
       "  'referenceCount': 26,\n",
       "  'citationCount': 337},\n",
       " {'paperId': '4c6dfe48b8b136e6bb44c92e1fa006d3d7bf71ed',\n",
       "  'title': \"GrapAL: Querying Semantic Scholar's Literature Graph\",\n",
       "  'referenceCount': 12,\n",
       "  'citationCount': 5},\n",
       " {'paperId': 'cb92a7f9d9dbcf9145e32fdfa0e70e2a6b828eb1',\n",
       "  'title': 'The Semantic Scholar Open Data Platform',\n",
       "  'referenceCount': 17,\n",
       "  'citationCount': 14},\n",
       " {'paperId': '97394fd6876dd10a0bdf233beb8216f16e074bee',\n",
       "  'title': 'Visual Exploration of Literature with Argo Scholar',\n",
       "  'referenceCount': 26,\n",
       "  'citationCount': 0},\n",
       " {'paperId': '8482eac8b79b43a060d4a50699590f499b77a415',\n",
       "  'title': 'Visual Exploration of Literature Using Connected Papers: A Practical Approach',\n",
       "  'referenceCount': 1,\n",
       "  'citationCount': 0}]"
      ]
     },
     "execution_count": 52,
     "metadata": {},
     "output_type": "execute_result"
    }
   ],
   "source": [
    "r = requests.get(\n",
    "    'https://api.semanticscholar.org/graph/v1/paper/search',\n",
    "    params={\n",
    "        'query': 'Literature Graph in Semantic Scholar',\n",
    "        'fields': 'referenceCount,citationCount,title',\n",
    "        'limit': 5,\n",
    "        },\n",
    ")\n",
    "d2 = r.json()['data']\n",
    "d2"
   ]
  },
  {
   "cell_type": "code",
   "execution_count": 53,
   "metadata": {},
   "outputs": [
    {
     "data": {
      "text/plain": [
       "[{'paperId': '649def34f8be52c8b66281af98ae884c09aef38b',\n",
       "  'title': 'Construction of the Literature Graph in Semantic Scholar',\n",
       "  'referenceCount': 26,\n",
       "  'citationCount': 337},\n",
       " {'paperId': 'f712fab0d58ae6492e3cdfc1933dae103ec12d5d',\n",
       "  'title': 'Reinfection and low cross-immunity as drivers of epidemic resurgence under high seroprevalence: a model-based approach with application to Amazonas, Brazil',\n",
       "  'referenceCount': 13,\n",
       "  'citationCount': 0},\n",
       " {'paperId': '649def34f8be52c8b66281af98ae884c09aef38b',\n",
       "  'title': 'Construction of the Literature Graph in Semantic Scholar',\n",
       "  'referenceCount': 26,\n",
       "  'citationCount': 337},\n",
       " {'paperId': '4c6dfe48b8b136e6bb44c92e1fa006d3d7bf71ed',\n",
       "  'title': \"GrapAL: Querying Semantic Scholar's Literature Graph\",\n",
       "  'referenceCount': 12,\n",
       "  'citationCount': 5},\n",
       " {'paperId': 'cb92a7f9d9dbcf9145e32fdfa0e70e2a6b828eb1',\n",
       "  'title': 'The Semantic Scholar Open Data Platform',\n",
       "  'referenceCount': 17,\n",
       "  'citationCount': 14},\n",
       " {'paperId': '97394fd6876dd10a0bdf233beb8216f16e074bee',\n",
       "  'title': 'Visual Exploration of Literature with Argo Scholar',\n",
       "  'referenceCount': 26,\n",
       "  'citationCount': 0},\n",
       " {'paperId': '8482eac8b79b43a060d4a50699590f499b77a415',\n",
       "  'title': 'Visual Exploration of Literature Using Connected Papers: A Practical Approach',\n",
       "  'referenceCount': 1,\n",
       "  'citationCount': 0}]"
      ]
     },
     "execution_count": 53,
     "metadata": {},
     "output_type": "execute_result"
    }
   ],
   "source": [
    "d1.extend(d2)\n",
    "d1"
   ]
  },
  {
   "cell_type": "code",
   "execution_count": 54,
   "metadata": {},
   "outputs": [
    {
     "data": {
      "text/plain": [
       "[{'paperId': '649def34f8be52c8b66281af98ae884c09aef38b',\n",
       "  'title': 'Construction of the Literature Graph in Semantic Scholar',\n",
       "  'referenceCount': 26,\n",
       "  'citationCount': 337},\n",
       " {'paperId': 'f712fab0d58ae6492e3cdfc1933dae103ec12d5d',\n",
       "  'title': 'Reinfection and low cross-immunity as drivers of epidemic resurgence under high seroprevalence: a model-based approach with application to Amazonas, Brazil',\n",
       "  'referenceCount': 13,\n",
       "  'citationCount': 0},\n",
       " {'paperId': '4c6dfe48b8b136e6bb44c92e1fa006d3d7bf71ed',\n",
       "  'title': \"GrapAL: Querying Semantic Scholar's Literature Graph\",\n",
       "  'referenceCount': 12,\n",
       "  'citationCount': 5},\n",
       " {'paperId': 'cb92a7f9d9dbcf9145e32fdfa0e70e2a6b828eb1',\n",
       "  'title': 'The Semantic Scholar Open Data Platform',\n",
       "  'referenceCount': 17,\n",
       "  'citationCount': 14},\n",
       " {'paperId': '97394fd6876dd10a0bdf233beb8216f16e074bee',\n",
       "  'title': 'Visual Exploration of Literature with Argo Scholar',\n",
       "  'referenceCount': 26,\n",
       "  'citationCount': 0},\n",
       " {'paperId': '8482eac8b79b43a060d4a50699590f499b77a415',\n",
       "  'title': 'Visual Exploration of Literature Using Connected Papers: A Practical Approach',\n",
       "  'referenceCount': 1,\n",
       "  'citationCount': 0}]"
      ]
     },
     "execution_count": 54,
     "metadata": {},
     "output_type": "execute_result"
    }
   ],
   "source": [
    "unique_list = list({d[\"paperId\"]: d for d in d1}.values())\n",
    "unique_list"
   ]
  },
  {
   "cell_type": "code",
   "execution_count": null,
   "metadata": {},
   "outputs": [],
   "source": []
  }
 ],
 "metadata": {
  "kernelspec": {
   "display_name": "Python 3",
   "language": "python",
   "name": "python3"
  },
  "language_info": {
   "codemirror_mode": {
    "name": "ipython",
    "version": 3
   },
   "file_extension": ".py",
   "mimetype": "text/x-python",
   "name": "python",
   "nbconvert_exporter": "python",
   "pygments_lexer": "ipython3",
   "version": "3.9.7"
  }
 },
 "nbformat": 4,
 "nbformat_minor": 2
}
