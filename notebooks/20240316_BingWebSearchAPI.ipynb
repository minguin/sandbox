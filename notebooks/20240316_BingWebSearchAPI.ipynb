{
 "cells": [
  {
   "cell_type": "code",
   "execution_count": 1,
   "metadata": {},
   "outputs": [],
   "source": [
    "import dotenv\n",
    "dotenv.load_dotenv()\n",
    "\n",
    "import json\n",
    "import os \n",
    "from pprint import pprint\n",
    "import requests\n",
    "from IPython.display import HTML"
   ]
  },
  {
   "cell_type": "code",
   "execution_count": 2,
   "metadata": {},
   "outputs": [
    {
     "data": {
      "text/html": [
       "<table><tr>\n",
       "                       <td><a href=\"https://www.microsoft.com/ja-jp/\">Microsoft – クラウド、コンピューター、アプリ &amp; ゲーム</a></td>\n",
       "                       <td>Microsoft の最新製品やサービスを紹介する公式サイトです。Surface、Microsoft 365、Xbox、Windows、Azure などの購入やダウンロード、サポート、キャンペーン情報などをご覧いただけます。</td>\n",
       "                     </tr>\n",
       "<tr>\n",
       "                       <td><a href=\"https://www.microsoft.com/ja-jp/welcome\">Microsoft アカウントをはじめる – Microsoft</a></td>\n",
       "                       <td>Microsoft アカウントは、Office、Windows、Xbox、Skype などの Microsoft 製品やアプリにアクセスできるシングル ログインです。このページでは、Microsoft アカウントの作成、セキュリティの設定、アカウント管理、よくあるご質問などについて説明します。</td>\n",
       "                     </tr>\n",
       "<tr>\n",
       "                       <td><a href=\"https://account.microsoft.com/account/Account?mkt=ja-JP\">Microsoft account | 今すぐサインインするか、アカウントを作成して ...</a></td>\n",
       "                       <td><b>Microsoft</b> アカウント には <b>Microsoft</b> メールは必要ありません <b>Microsoft</b> アカウントへのサインインに使用するメール アドレスは、Outlook.com、Hotmail.com、Gmail、Yahoo、またはその他のプロバイダーから取得できます。. 今すぐ作成する. 既にアカウント を持っている ...</td>\n",
       "                     </tr>\n",
       "<tr>\n",
       "                       <td><a href=\"https://www.microsoft.com/ja-JP/microsoft-365\">Microsoft 365 - サブスクリプションで Office アプリを使用 ...</a></td>\n",
       "                       <td><b>Microsoft</b> 365 なら、おなじみの Office アプリに加えてインテリジェントなクラウド サービスと優れたセキュリティの機能を 1 つのサブスクリプションで利用できます。最適なプランを見つけてください。</td>\n",
       "                     </tr>\n",
       "<tr>\n",
       "                       <td><a href=\"https://www.microsoft.com/ja-jp/windows/windows-11/\">Windows 11 のご紹介: 機能、外観、メリットなど | Microsoft</a></td>\n",
       "                       <td>Windows 11 は、直感的な操作、パフォーマンスの高速化、生産性と創造性の向上、ゲーミングの楽しみ方などの機能を備えた最新の Windows です。Windows 11 の Copilot、Windows Backup、Windows 11 の新機能、Windows 11 の Copilot などの機能を紹介し、アップグレードの方法を案内します。</td>\n",
       "                     </tr>\n",
       "<tr>\n",
       "                       <td><a href=\"https://support.microsoft.com/ja-jp/contactus/\">お問い合わせ - Microsoft サポート</a></td>\n",
       "                       <td><b>Microsoft</b> Store のサポート. 今買い物をしている場合でも、過去の購入に関するサポートが必要な場合でも、ヘルプとサポートを受けることができます。. <b>Microsoft</b> サポートにお問い合わせください。. 一般的な問題の解決策を見つけるか、サポート エージェント ...</td>\n",
       "                     </tr>\n",
       "<tr>\n",
       "                       <td><a href=\"https://www.microsoft.com/ja-jp/windows\">Windows 11、OS、コンピューターおよびアプリのパワーを体験する</a></td>\n",
       "                       <td>Windows 11 は、ゲーム、学習、ビジネスの経営、家事などの働き方や学び方に合わせて新機能を提供するシンプルな Windows です。Windows 11 を入手する方法や、エクスペリエンスをアップグレードする方法、Windows 11 の新機能の使用方法や、Windows 11 の創造力を広げるためのアプリやツールについて紹介します。</td>\n",
       "                     </tr>\n",
       "<tr>\n",
       "                       <td><a href=\"https://support.microsoft.com/ja-jp/all-products\">Microsoft 製品とアプリのサポート</a></td>\n",
       "                       <td><b>Microsoft</b> のアプリとサービスのサポートを受けることができます。 一生の思い出を指先ひとつで <b>Microsoft</b> 365 と 1 TB の OneDrive クラウド ストレージで、写真やファイルをすばやく保存、共有、編集できます。</td>\n",
       "                     </tr></table>"
      ],
      "text/plain": [
       "<IPython.core.display.HTML object>"
      ]
     },
     "execution_count": 2,
     "metadata": {},
     "output_type": "execute_result"
    }
   ],
   "source": [
    "# https://docs.microsoft.com/en-us/bing/search-apis/bing-web-search/overview\n",
    "# https://learn.microsoft.com/ja-jp/bing/search-apis/#query-parameters\n",
    "\n",
    "subscription_key = os.environ['BING_SEARCH_V7_SUBSCRIPTION_KEY']\n",
    "endpoint = os.environ['BING_SEARCH_V7_ENDPOINT'] + \"/v7.0/search\"\n",
    "\n",
    "query = \"Microsoft\"\n",
    "headers = {\"Ocp-Apim-Subscription-Key\": subscription_key}\n",
    "\n",
    "params = {\"q\": query, \"textDecorations\": True, \"textFormat\": \"HTML\"}\n",
    "# params = { 'q': query, 'mkt': 'en-US'} # 言語英語の結果\n",
    "\n",
    "response = requests.get(endpoint, headers=headers, params=params)\n",
    "response.raise_for_status()\n",
    "search_results = response.json()\n",
    "\n",
    "rows = \"\\n\".join([\"\"\"<tr>\n",
    "                       <td><a href=\\\"{0}\\\">{1}</a></td>\n",
    "                       <td>{2}</td>\n",
    "                     </tr>\"\"\".format(v[\"url\"], v[\"name\"], v[\"snippet\"])\n",
    "                  for v in search_results[\"webPages\"][\"value\"]])\n",
    "HTML(\"<table>{0}</table>\".format(rows))"
   ]
  },
  {
   "cell_type": "markdown",
   "metadata": {},
   "source": [
    "#### こっちはやっぱり動かない？一旦上で進める"
   ]
  },
  {
   "cell_type": "code",
   "execution_count": 3,
   "metadata": {},
   "outputs": [],
   "source": [
    "# # Import required modules.\n",
    "# from azure.cognitiveservices.search.websearch import WebSearchClient\n",
    "# from azure.cognitiveservices.search.websearch.models import SafeSearch\n",
    "# from msrest.authentication import CognitiveServicesCredentials\n",
    "\n",
    "# # Replace with your subscription key.\n",
    "# subscription_key = os.environ['BING_SEARCH_V7_SUBSCRIPTION_KEY']\n",
    "# endpoint = os.environ['BING_SEARCH_V7_ENDPOINT'] + \"/v7.0/search\"\n",
    "\n",
    "# # Instantiate the client and replace with your endpoint.\n",
    "# client = WebSearchClient(endpoint=endpoint, credentials=CognitiveServicesCredentials(subscription_key))\n",
    "\n",
    "# # Make a request. Replace Yosemite if you'd like.\n",
    "# web_data = client.web.search(query=\"Yosemite\")\n",
    "# print(\"\\r\\nSearched for Query# \\\" Yosemite \\\"\")\n",
    "\n",
    "# '''\n",
    "# Web pages\n",
    "# If the search response contains web pages, the first result's name and url\n",
    "# are printed.\n",
    "# '''\n",
    "# if hasattr(web_data.web_pages, 'value'):\n",
    "\n",
    "#     print(\"\\r\\nWebpage Results#{}\".format(len(web_data.web_pages.value)))\n",
    "\n",
    "#     first_web_page = web_data.web_pages.value[0]\n",
    "#     print(\"First web page name: {} \".format(first_web_page.name))\n",
    "#     print(\"First web page URL: {} \".format(first_web_page.url))\n",
    "\n",
    "# else:\n",
    "#     print(\"Didn't find any web pages...\")\n",
    "\n",
    "# '''\n",
    "# Images\n",
    "# If the search response contains images, the first result's name and url\n",
    "# are printed.\n",
    "# '''\n",
    "# if hasattr(web_data.images, 'value'):\n",
    "\n",
    "#     print(\"\\r\\nImage Results#{}\".format(len(web_data.images.value)))\n",
    "\n",
    "#     first_image = web_data.images.value[0]\n",
    "#     print(\"First Image name: {} \".format(first_image.name))\n",
    "#     print(\"First Image URL: {} \".format(first_image.url))\n",
    "\n",
    "# else:\n",
    "#     print(\"Didn't find any images...\")\n",
    "\n",
    "# '''\n",
    "# News\n",
    "# If the search response contains news, the first result's name and url\n",
    "# are printed.\n",
    "# '''\n",
    "# if hasattr(web_data.news, 'value'):\n",
    "\n",
    "#     print(\"\\r\\nNews Results#{}\".format(len(web_data.news.value)))\n",
    "\n",
    "#     first_news = web_data.news.value[0]\n",
    "#     print(\"First News name: {} \".format(first_news.name))\n",
    "#     print(\"First News URL: {} \".format(first_news.url))\n",
    "\n",
    "# else:\n",
    "#     print(\"Didn't find any news...\")\n",
    "\n",
    "# '''\n",
    "# If the search response contains videos, the first result's name and url\n",
    "# are printed.\n",
    "# '''\n",
    "# if hasattr(web_data.videos, 'value'):\n",
    "\n",
    "#     print(\"\\r\\nVideos Results#{}\".format(len(web_data.videos.value)))\n",
    "\n",
    "#     first_video = web_data.videos.value[0]\n",
    "#     print(\"First Videos name: {} \".format(first_video.name))\n",
    "#     print(\"First Videos URL: {} \".format(first_video.url))\n",
    "\n",
    "# else:\n",
    "#     print(\"Didn't find any videos...\")"
   ]
  },
  {
   "cell_type": "markdown",
   "metadata": {},
   "source": [
    "#### 以下実験"
   ]
  },
  {
   "cell_type": "code",
   "execution_count": null,
   "metadata": {},
   "outputs": [],
   "source": []
  }
 ],
 "metadata": {
  "kernelspec": {
   "display_name": "myenv",
   "language": "python",
   "name": "python3"
  },
  "language_info": {
   "codemirror_mode": {
    "name": "ipython",
    "version": 3
   },
   "file_extension": ".py",
   "mimetype": "text/x-python",
   "name": "python",
   "nbconvert_exporter": "python",
   "pygments_lexer": "ipython3",
   "version": "3.10.13"
  }
 },
 "nbformat": 4,
 "nbformat_minor": 2
}
