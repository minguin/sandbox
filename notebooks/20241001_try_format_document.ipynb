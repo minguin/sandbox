{
 "cells": [
  {
   "cell_type": "code",
   "execution_count": 1,
   "metadata": {},
   "outputs": [
    {
     "data": {
      "text/plain": [
       "True"
      ]
     },
     "execution_count": 1,
     "metadata": {},
     "output_type": "execute_result"
    }
   ],
   "source": [
    "import cv2\n",
    "import numpy as np\n",
    "from pdf2image import convert_from_path\n",
    "\n",
    "\n",
    "def detect_text_regions(image):\n",
    "    # グレースケールに変換\n",
    "    gray = cv2.cvtColor(image, cv2.COLOR_BGR2GRAY)\n",
    "\n",
    "    # MSERを使用してテキスト領域を検出\n",
    "    mser = cv2.MSER_create()\n",
    "    regions, _ = mser.detectRegions(gray)\n",
    "\n",
    "    # 検出された領域をマージ\n",
    "    hulls = [cv2.convexHull(p.reshape(-1, 1, 2)) for p in regions]\n",
    "\n",
    "    # 小さすぎる領域を除外\n",
    "    hulls = [h for h in hulls if cv2.contourArea(h) > 0]\n",
    "\n",
    "    # 領域をマージ\n",
    "    mask = np.zeros((image.shape[0], image.shape[1], 1), dtype=np.uint8)\n",
    "    for hull in hulls:\n",
    "        cv2.drawContours(mask, [hull], 0, (255), -1)\n",
    "\n",
    "    # 膨張と収縮を行ってテキスト領域をつなげる\n",
    "    kernel = cv2.getStructuringElement(cv2.MORPH_RECT, (5, 5))\n",
    "    mask = cv2.dilate(mask, kernel, iterations=5)\n",
    "    mask = cv2.erode(mask, kernel, iterations=4)\n",
    "\n",
    "    # 輪郭を検出\n",
    "    contours, _ = cv2.findContours(mask, cv2.RETR_EXTERNAL, cv2.CHAIN_APPROX_SIMPLE)\n",
    "\n",
    "    # バウンディングボックスを取得\n",
    "    boxes = [cv2.boundingRect(c) for c in contours]\n",
    "\n",
    "    return boxes\n",
    "\n",
    "\n",
    "def draw_bounding_boxes(image, boxes):\n",
    "    for box in boxes:\n",
    "        x, y, w, h = box\n",
    "        cv2.rectangle(image, (x, y), (x + w, y + h), (0, 255, 0), 2)\n",
    "    return image\n",
    "\n",
    "\n",
    "# 画像を読み込む\n",
    "images = convert_from_path(r\"../data/pdf/ir2024_all_ja.pdf\")\n",
    "image = cv2.cvtColor(np.array(images[1]), cv2.COLOR_RGB2BGR)\n",
    "\n",
    "# テキスト領域を検出\n",
    "boxes = detect_text_regions(image)\n",
    "\n",
    "# 境界ボックスを描画\n",
    "image_with_boxes = draw_bounding_boxes(image.copy(), boxes)\n",
    "\n",
    "# 結果を表示\n",
    "# cv2.imshow('Image with Bounding Boxes', image_with_boxes)\n",
    "# cv2.waitKey(0)\n",
    "# cv2.destroyAllWindows()\n",
    "\n",
    "# 結果を保存（オプション）\n",
    "cv2.imwrite(\"../data/output/image_with_bounding_boxes.jpg\", image_with_boxes)"
   ]
  },
  {
   "cell_type": "code",
   "execution_count": null,
   "metadata": {},
   "outputs": [],
   "source": []
  }
 ],
 "metadata": {
  "kernelspec": {
   "display_name": "myenv",
   "language": "python",
   "name": "python3"
  },
  "language_info": {
   "codemirror_mode": {
    "name": "ipython",
    "version": 3
   },
   "file_extension": ".py",
   "mimetype": "text/x-python",
   "name": "python",
   "nbconvert_exporter": "python",
   "pygments_lexer": "ipython3",
   "version": "3.10.13"
  }
 },
 "nbformat": 4,
 "nbformat_minor": 2
}
